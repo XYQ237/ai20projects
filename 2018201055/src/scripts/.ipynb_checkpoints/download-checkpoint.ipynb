{
 "cells": [
  {
   "cell_type": "code",
   "execution_count": null,
   "metadata": {},
   "outputs": [],
   "source": [
    "import requests\n",
    "from bs4 import BeautifulSoup"
   ]
  },
  {
   "cell_type": "code",
   "execution_count": null,
   "metadata": {},
   "outputs": [],
   "source": [
    "lines=open('paperlink.txt').readlines()\n",
    "f=open('paperlink.txt')"
   ]
  },
  {
   "cell_type": "code",
   "execution_count": null,
   "metadata": {},
   "outputs": [],
   "source": [
    "fpname=open('papername.txt').readlines()\n",
    "namelist=[]\n",
    "downloadlist=[]\n",
    "select_num=0\n",
    "for i in fpname:\n",
    "    i=i[:-1]\n",
    "    s=i.replace(':','')\n",
    "    s=s.replace('*','')\n",
    "    s=s.replace('?','')\n",
    "    s=s.replace('\"','')\n",
    "    namelist.append(s)\n",
    "    downloadlist.append(select_num)\n",
    "    select_num +=1\n",
    "print(downloadlist)"
   ]
  },
  {
   "cell_type": "code",
   "execution_count": null,
   "metadata": {},
   "outputs": [],
   "source": [
    "count=0\n",
    "select_num=0\n",
    "for line in f:\n",
    "    if count == downloadlist[select_num]:\n",
    "        line=line[:]\n",
    "        \n",
    "        res=requests.get(line)\n",
    "        res.encoding='utf-8'\n",
    "        soup=BeautifulSoup(res.text,'html.parser')\n",
    "        news=soup.select('iframe')\n",
    "        pdf=news[0]['src']\n",
    "        out_fname='paper/'+namelist[count]+'.pdf'\n",
    "        print([\"downloading ...\",namelist[count]])\n",
    "        check_http=pdf[0:6]\n",
    "        if check_http !=\"https:\":\n",
    "            pdf=\"https:\"+pdf\n",
    "        r=requests.get(pdf)\n",
    "        with open(out_fname,'wb')as f2:\n",
    "            f2.write(r.content)\n",
    "        select_num +=1\n",
    "        if select_num >= len(downloadlist):\n",
    "            break\n",
    "    count += 1\n",
    "f.close()"
   ]
  },
  {
   "cell_type": "code",
   "execution_count": null,
   "metadata": {},
   "outputs": [],
   "source": []
  }
 ],
 "metadata": {
  "kernelspec": {
   "display_name": "Python 3",
   "language": "python",
   "name": "python3"
  },
  "language_info": {
   "codemirror_mode": {
    "name": "ipython",
    "version": 3
   },
   "file_extension": ".py",
   "mimetype": "text/x-python",
   "name": "python",
   "nbconvert_exporter": "python",
   "pygments_lexer": "ipython3",
   "version": "3.8.3"
  }
 },
 "nbformat": 4,
 "nbformat_minor": 4
}
