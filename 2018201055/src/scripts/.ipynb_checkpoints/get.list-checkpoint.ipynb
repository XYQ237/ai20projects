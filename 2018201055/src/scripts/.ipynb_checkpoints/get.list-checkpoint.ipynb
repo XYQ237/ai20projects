{
 "cells": [
  {
   "cell_type": "code",
   "execution_count": null,
   "metadata": {},
   "outputs": [],
   "source": [
    "import requests\n",
    "from bs4 import BeautifulSoup"
   ]
  },
  {
   "cell_type": "code",
   "execution_count": null,
   "metadata": {},
   "outputs": [],
   "source": [
    "#连接DBIP数据库的网页\n",
    "url=\"https://dblp.uni-trier.de/db/conf/icra/icra2020.html\"\n",
    "res=requests.get(url)\n",
    "print(res)"
   ]
  },
  {
   "cell_type": "code",
   "execution_count": null,
   "metadata": {},
   "outputs": [],
   "source": [
    "soup=BeautifulSoup(res.content, 'html.parser')\n",
    "soup2=soup.find_all('li',{\"class\":\"entry inproceedings\"})"
   ]
  },
  {
   "cell_type": "code",
   "execution_count": null,
   "metadata": {},
   "outputs": [],
   "source": [
    "#提取和保存论文的DOI链接\n",
    "fp=open('paperlink.txt','w')\n",
    "for i in soup2:\n",
    "    s = i.find('a')['href']+'\\n'\n",
    "    sci_link='https://sci-hub.se/'+s\n",
    "    print(sci_link)\n",
    "    fp.write(sci_link)\n",
    "fp.close()"
   ]
  },
  {
   "cell_type": "code",
   "execution_count": null,
   "metadata": {},
   "outputs": [],
   "source": [
    "#提取和保存论文的Title\n",
    "soup3=soup.find_all('span',{\"class\":\"title\"})\n",
    "fpname=open('papername.txt','w',encoding='utf-8')\n",
    "for i in soup3:\n",
    "    s=i.string\n",
    "    s=i.text+'\\n'\n",
    "    print(s)\n",
    "    fpname.write(s)\n",
    "fpname.close()"
   ]
  },
  {
   "cell_type": "code",
   "execution_count": null,
   "metadata": {},
   "outputs": [],
   "source": []
  }
 ],
 "metadata": {
  "kernelspec": {
   "display_name": "Python 3",
   "language": "python",
   "name": "python3"
  },
  "language_info": {
   "codemirror_mode": {
    "name": "ipython",
    "version": 3
   },
   "file_extension": ".py",
   "mimetype": "text/x-python",
   "name": "python",
   "nbconvert_exporter": "python",
   "pygments_lexer": "ipython3",
   "version": "3.8.3"
  }
 },
 "nbformat": 4,
 "nbformat_minor": 4
}
