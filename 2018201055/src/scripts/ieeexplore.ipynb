{
 "cells": [
  {
   "cell_type": "code",
   "execution_count": 76,
   "metadata": {},
   "outputs": [],
   "source": [
    "import requests\n",
    "from bs4 import BeautifulSoup\n",
    "from selenium import webdriver\n",
    "import time"
   ]
  },
  {
   "cell_type": "code",
   "execution_count": 77,
   "metadata": {},
   "outputs": [],
   "source": [
    "def work(browser, url):\n",
    "    browser.get(url)\n",
    "    ele_nums=[]\n",
    "    time.sleep(10)\n",
    "    js='window.scrollTo(0,document.body.scrollHeight);'\n",
    "    browser.execute_script(js)\n",
    "    time.sleep(5)\n",
    "    browser.execute_script(js)\n",
    "    try:\n",
    "        for link in browser.find_elements_by_xpath(\"//*[@data-artnuml]\"):\n",
    "            if isContainClass(link.get_attribute('className'),'icon-pdf'):\n",
    "                ele_num=link.get_attribute('data-artnum')\n",
    "                ele_nums.append(ele_num)\n",
    "        return ele_nums\n",
    "    except:\n",
    "        print(\"failure\")"
   ]
  },
  {
   "cell_type": "code",
   "execution_count": 78,
   "metadata": {},
   "outputs": [],
   "source": [
    "def isContainClass(allClass,targetClass):\n",
    "    classArr=allClass.split(' ')\n",
    "    result=False\n",
    "    for str in classArr:\n",
    "        if str==targetClass:\n",
    "            result=Ture\n",
    "            break\n",
    "    return result"
   ]
  },
  {
   "cell_type": "code",
   "execution_count": 79,
   "metadata": {},
   "outputs": [],
   "source": [
    "def getHtml(url):\n",
    "    headers={\"user-agent\":\"Mozilla/5.0 (Linux; Android 6.0; Nexus 5 Build/MRA58N) AppleWebKit/537.36 (KHTML, like Gecko) Chrome/86.0.4240.111 Mobile Safari/537.36\"}\n",
    "    try:\n",
    "        response=requests.get(url,timeout=40,headers=headers)\n",
    "        response.raise_for_status()\n",
    "        \n",
    "        response.encoding=response.apparent_encoding\n",
    "        \n",
    "        return response.txt\n",
    "    except:\n",
    "        import traceback\n",
    "        traceback.print_exc()"
   ]
  },
  {
   "cell_type": "code",
   "execution_count": 80,
   "metadata": {},
   "outputs": [],
   "source": [
    "def getSoup(html):\n",
    "    soup=BeautifulSoup(html,'html.parser')\n",
    "    print(soup.body.find_all('a',attrs={'class':r'icon-pdf'}))"
   ]
  },
  {
   "cell_type": "code",
   "execution_count": 81,
   "metadata": {},
   "outputs": [],
   "source": [
    "def downloadPaper(url):\n",
    "    try:\n",
    "        soup=BeautifulSoup(getHtml(url),'html.parser')\n",
    "        result=soup.body.find_all('iframe')\n",
    "        downloadUrl=result[-1].attrs['src'].split('?')[0]\n",
    "        headers={'user-agent':'Mozilla/5.0 (Linux; Android 6.0; Nexus 5 Build/MRA58N) AppleWebKit/537.36 (KHTML, like Gecko) Chrome/86.0.4240.111 Mobile Safari/537.36'}\n",
    "        response=requests.get(downliadUrl,timeout=80,headers=headers)\n",
    "        fname=downloadUrl[-12:]\n",
    "        print(fname)\n",
    "        \n",
    "        with open(fname,'ab+') as f:\n",
    "            print('start download file',fname)\n",
    "            f.write(response.content)\n",
    "            \n",
    "    except:\n",
    "        import traceback\n",
    "        with open('errorLog','ab+') as f:\n",
    "            traceback.print_exc(file=f)"
   ]
  },
  {
   "cell_type": "code",
   "execution_count": 83,
   "metadata": {},
   "outputs": [],
   "source": [
    "if __name__=='__main__':\n",
    "    url='https://ieeexplore.ieee.org/search/searchresult.jsp?action=search&matchBoolean=true&queryText=(%22Document%20Title%22:computer%20science)&ranges=1980_2021_Year&highlight=true&returnFacets=ALL&returnType=SEARCH&matchPubs=true&refinements=ContentType:Journals'\n",
    "    baseUrl='http://ieeexplore.ieee.org/stamp/stamp.jsp?tp=&arnumber='\n",
    "    maxPageNumber=3\n",
    "    browser=webdriver.Chrome()\n",
    "    if maxPageNumber>=1:\n",
    "        eleNums=work(browser,url)\n",
    "        eleNums=list(set(eleNums))\n",
    "        for eleNum in eleNums:\n",
    "            newUrl=baseUrl_str(eleNum)\n",
    "            downloadPaper(newUrl)\n",
    "    else:\n",
    "        for i in range(2,maxPageNumber+1):\n",
    "            url10=url+'&pageNumber='+str(i)\n",
    "            eleNums=work(browser,url10)\n",
    "            eleNums=list(set(eleNums))\n",
    "            for eleNums in eleNums:\n",
    "                newUrl=baseUrl+str(eleNum)\n",
    "                downloadPaper(newUrl)"
   ]
  }
 ],
 "metadata": {
  "kernelspec": {
   "display_name": "Python 3",
   "language": "python",
   "name": "python3"
  },
  "language_info": {
   "codemirror_mode": {
    "name": "ipython",
    "version": 3
   },
   "file_extension": ".py",
   "mimetype": "text/x-python",
   "name": "python",
   "nbconvert_exporter": "python",
   "pygments_lexer": "ipython3",
   "version": "3.8.3"
  }
 },
 "nbformat": 4,
 "nbformat_minor": 4
}
