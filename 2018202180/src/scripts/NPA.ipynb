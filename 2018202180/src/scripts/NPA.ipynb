{
 "metadata": {
  "language_info": {
   "codemirror_mode": {
    "name": "ipython",
    "version": 3
   },
   "file_extension": ".py",
   "mimetype": "text/x-python",
   "name": "python",
   "nbconvert_exporter": "python",
   "pygments_lexer": "ipython3",
   "version": "3.7.9-final"
  },
  "orig_nbformat": 2,
  "kernelspec": {
   "name": "Python 3.7.9 64-bit",
   "display_name": "Python 3.7.9 64-bit",
   "metadata": {
    "interpreter": {
     "hash": "9616ec0cf0e0dd041cba3c8886d471a5cc72bbf20e2c795f4079199200777fdd"
    }
   }
  }
 },
 "nbformat": 4,
 "nbformat_minor": 2,
 "cells": [
  {
   "cell_type": "code",
   "execution_count": 1,
   "metadata": {},
   "outputs": [],
   "source": [
    "import os\n",
    "import torch\n",
    "import torch.nn as nn\n",
    "import torch.optim as optim\n",
    "from torchtext.vocab import FastText\n",
    "from torch.utils.data import DataLoader\n",
    "from utils.MIND import MIND_iter,MIND_map\n",
    "from utils.utils import getVocab,getLoss,getLabel,constructBasicDict,run_eval,run_train\n",
    "from models.NPA import NPAModel"
   ]
  },
  {
   "cell_type": "markdown",
   "metadata": {},
   "source": [
    "## setting up the *NPA* model\n",
    "\n",
    "### define paths and hyperparameters, load data\n",
    "\n",
    "all these hyper parameters are fixed according to the paper [\\[23\\] Npa Neural news recommendation with personalized attention](https://dl.acm.org/doi/abs/10.1145/3292500.3330665)\n",
    "\n",
    "- *mode*: data to read (*demo*/*small*/*large*)\n",
    "\n",
    "- *batch_size*: size of each minibatch\n",
    "\n",
    "- *title_size*: max word capacity of title\n",
    "\n",
    "- *his_size*: max record capacity of click history\n",
    "\n",
    "- *npratio*: number of negtive sampling\n",
    "\n",
    "- *dropout_p*: probability of dropout layer\n",
    "\n",
    "- *filter_num*: number of kernels in 1D CNN, which is also embedding dimension of news/user\n",
    "\n",
    "- *embedding_dim*: word embedding dimension\n",
    "\n",
    "- *user_dim*: user id embedding dimension\n",
    "\n",
    "- *preference_dim*: user preference embedding dimension"
   ]
  },
  {
   "cell_type": "code",
   "execution_count": 2,
   "metadata": {},
   "outputs": [],
   "source": [
    "hparams = {\n",
    "    'mode':'demo',\n",
    "    'batch_size':5,#100,\n",
    "    'title_size':30,\n",
    "    'his_size':20,\n",
    "    'dropout_p':0.2,\n",
    "    'filter_num':400,\n",
    "    'embedding_dim':300,\n",
    "    'user_dim':50,\n",
    "    'preference_dim':200,\n",
    "    'metrics':'group_auc,ndcg@4,mean_mrr',\n",
    "    'gpu':'cuda:0',\n",
    "    'attrs': ['title']\n",
    "}\n",
    "\n",
    "# customize your path here\n",
    "\n",
    "news_file_train = 'D:/Data/NR_data/dev/news_train.tsv'\n",
    "news_file_test = 'D:/Data/NR_data/dev/news_test.tsv'\n",
    "behavior_file_train = 'D:/Data/NR_data/dev/behaviors_train.tsv'\n",
    "behavior_file_test = 'D:/Data/NR_data/dev/behaviors_test.tsv'\n",
    "save_path = 'models/model_param/NPA_'+ hparams['mode'] +'.model'\n",
    "\n",
    "# if user2id,word2id,news2id haven't been constructed\n",
    "if not os.path.exists('data/nid2idx_{}_{}.json'.format(hparams['mode'],'train')):\n",
    "    constructBasicDict(news_file_train,behavior_file_train,hparams['mode'],'train',hparams['attrs'])\n",
    "\n",
    "if not os.path.exists('data/nid2idx_{}_{}.json'.format(hparams['mode'],'test')):\n",
    "    constructBasicDict(news_file_test,behavior_file_test,hparams['mode'],'test',hparams['attrs'])\n",
    "\n",
    "device = torch.device(hparams['gpu']) if torch.cuda.is_available() else torch.device(\"cpu\")\n",
    "\n",
    "dataset_train = MIND_map(hparams=hparams,mode='train',npratio=4,news_file=news_file_train,behaviors_file=behavior_file_train)\n",
    "\n",
    "dataset_test = MIND_iter(hparams=hparams,mode='test',news_file=news_file_test,behaviors_file=behavior_file_test)\n",
    "\n",
    "vocab_train = dataset_train.vocab\n",
    "embedding = FastText('simple',cache='.vector_cache')\n",
    "vocab_train.load_vectors(embedding)\n",
    "\n",
    "vocab_test = dataset_test.vocab\n",
    "vocab_test.load_vectors(embedding)\n",
    "\n",
    "loader_train = DataLoader(dataset_train,batch_size=hparams['batch_size'],shuffle=True,pin_memory=True,num_workers=3)\n",
    "loader_test = DataLoader(dataset_test,batch_size=hparams['batch_size'],pin_memory=True,num_workers=0,drop_last=True)"
   ]
  },
  {
   "cell_type": "code",
   "execution_count": 4,
   "metadata": {},
   "outputs": [],
   "source": [
    "# you can load my model or train yours\n",
    "if os.path.exists(save_path):\n",
    "    npaModel = NPAModel(vocab=vocab_train,hparams=hparams,npratio=4).to(device)\n",
    "    npaModel.load_state_dict(torch.load(save_path))\n",
    "    npaModel.eval()\n",
    "\n",
    "else:\n",
    "    npaModel = NPAModel(vocab=vocab_train,hparams=hparams,npratio=4).to(device)\n",
    "    npaModel.train()"
   ]
  },
  {
   "cell_type": "markdown",
   "metadata": {},
   "source": [
    "### train model"
   ]
  },
  {
   "cell_type": "code",
   "execution_count": 5,
   "metadata": {},
   "outputs": [
    {
     "output_type": "stream",
     "name": "stdout",
     "text": [
      "training...\n",
      "epoch 0 , step 395 , total_loss: 1.6149, batch_loss: 1.6105: : 400it [00:20, 19.77it/s]\n"
     ]
    }
   ],
   "source": [
    "if npaModel.training:\n",
    "    print(\"training...\")\n",
    "    loss_func = getLoss(npaModel)\n",
    "    optimizer = optim.Adam(npaModel.parameters(),lr=0.001)\n",
    "    npaModel = run_train(npaModel,loader_train,optimizer,loss_func, epochs=1, interval=5)"
   ]
  },
  {
   "cell_type": "markdown",
   "metadata": {},
   "source": [
    "### test & evaluate"
   ]
  },
  {
   "cell_type": "code",
   "execution_count": 6,
   "metadata": {
    "tags": []
   },
   "outputs": [
    {
     "output_type": "stream",
     "name": "stderr",
     "text": [
      "0it [00:00, ?it/s]evaluating...\n",
      "2191it [00:36, 60.01it/s]\n"
     ]
    },
    {
     "output_type": "execute_result",
     "data": {
      "text/plain": [
       "{'group_auc': 0.5035, 'ndcg@4': 0.2008, 'mean_mrr': 0.2169}"
      ]
     },
     "metadata": {},
     "execution_count": 6
    }
   ],
   "source": [
    "print(\"evaluating...\")\n",
    "npaModel.eval()\n",
    "npaModel.vocab = vocab_test\n",
    "npaModel.npratio = -1\n",
    "\n",
    "run_eval(npaModel,loader_test)"
   ]
  },
  {
   "cell_type": "markdown",
   "metadata": {},
   "source": [
    "### save the model"
   ]
  },
  {
   "cell_type": "code",
   "execution_count": null,
   "metadata": {},
   "outputs": [],
   "source": [
    "npaModel.npratio = 4\n",
    "torch.save(npaModel.state_dict(), save_path)"
   ]
  },
  {
   "cell_type": "code",
   "execution_count": null,
   "metadata": {},
   "outputs": [],
   "source": []
  }
 ]
}