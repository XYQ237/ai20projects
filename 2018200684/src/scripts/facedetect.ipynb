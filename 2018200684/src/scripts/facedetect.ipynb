{
 "cells": [
  {
   "cell_type": "code",
   "execution_count": 1,
   "metadata": {},
   "outputs": [
    {
     "name": "stdout",
     "output_type": "stream",
     "text": [
      "1\n",
      "2\n",
      "3\n",
      "4\n",
      "Detected 1 faces!\n",
      "5\n"
     ]
    },
    {
     "data": {
      "text/plain": [
       "-1"
      ]
     },
     "execution_count": 1,
     "metadata": {},
     "output_type": "execute_result"
    }
   ],
   "source": [
    "# load the library using the import keyword\n",
    "# OpenCV must be properly installed for this to work. If not, then the module will not load with an\n",
    "# error message.\n",
    "\n",
    "import cv2\n",
    "import sys\n",
    "\n",
    "# Gets the name of the image file (filename) from sys.argv\n",
    "print(1)\n",
    "imagePath = \"face2.jpg\"\n",
    "cascPath = \"haarcascade_frontalface_default.xml\"\n",
    "\n",
    "# This creates the cascade classifcation from file \n",
    "\n",
    "faceCascade = cv2.CascadeClassifier(cascPath)\n",
    "print(2)\n",
    "# The image is read and converted to grayscale\n",
    "image = cv2.imread(imagePath)\n",
    "gray = cv2.cvtColor(image, cv2.COLOR_BGR2GRAY)\n",
    "print(3)\n",
    "# The face or faces in an image are detected\n",
    "# This section requires the most adjustments to get accuracy on face being detected.\n",
    "\n",
    "\n",
    "faces = faceCascade.detectMultiScale(\n",
    "    gray,\n",
    "    scaleFactor=1.1,\n",
    "    minNeighbors=5,\n",
    "    minSize=(1,1),\n",
    "    flags = cv2.CASCADE_SCALE_IMAGE\n",
    ")\n",
    "print(4)\n",
    "print(\"Detected {0} faces!\".format(len(faces)))\n",
    "\n",
    "# This draws a green rectangle around the faces detected\n",
    "\n",
    "\n",
    "for (x, y, w, h) in faces:\n",
    "    cv2.rectangle(image, (x, y), (x+w, y+h), (0, 255, 0), 2)\n",
    "print(5)\n",
    "cv2.imshow(\"Faces Detected\", image)\n",
    "cv2.waitKey(0)\n",
    "# The image is read and converted to grayscale\n"
   ]
  },
  {
   "cell_type": "code",
   "execution_count": 11,
   "metadata": {},
   "outputs": [],
   "source": [
    "def facedetect(imagePath):\n",
    "#######################################################\n",
    "#检测人脸，同时与标准中心对比，计算出deltax deltay deltaz\n",
    "#center_x center_y expected center, 常数值 可根据需要调整\n",
    "#Ideal_area 期望面积 常数值\n",
    "#######################################################\n",
    "    center_x=347\n",
    "    center_y=400\n",
    "    Ideal_area=102.01\n",
    "    cascPath = \"haarcascade_frontalface_default.xml\"\n",
    "    \n",
    "# This creates the cascade classifcation from file \n",
    "\n",
    "    faceCascade = cv2.CascadeClassifier(cascPath)\n",
    "\n",
    "# The image is read and converted to grayscale\n",
    "    image = cv2.imread(imagePath)\n",
    "    gray = cv2.cvtColor(image, cv2.COLOR_BGR2GRAY)\n",
    "\n",
    "# The face or faces in an image are detected\n",
    "# This section requires the most adjustments to get accuracy on face being detected.\n",
    "    faces = faceCascade.detectMultiScale(\n",
    "    gray,\n",
    "    scaleFactor=1.1,\n",
    "    minNeighbors=5,\n",
    "    minSize=(1,1),\n",
    "    flags = cv2.CASCADE_SCALE_IMAGE\n",
    "    )\n",
    "\n",
    "    \n",
    "    if (faces !=()):\n",
    "        for (x,y,w,h) in faces:\n",
    "            print(6)\n",
    "            cv2.rectangle(image, (x, y), (x+w, y+h), (0, 255, 0), 2)\n",
    "          #  cv2.imshow(\"Faces Detected\", image)\n",
    "          #  cv2.waitKey(0)\n",
    "         #   roi_gray = gray[y:y+h, x:x+w]\n",
    "         #   roi_color = img[y:y+h, x:x+w]\n",
    "            bounding_centre_coordinates_x = int((x+x+w)/2)\n",
    "            bounding_centre_coordinates_y = int((y+y+h)/2)\n",
    "            cv2.circle(image,(bounding_centre_coordinates_x, bounding_centre_coordinates_y), 5, (0,255,0), -1)\n",
    "            cv2.imshow(\"Faces Detected\", image)\n",
    "            cv2.waitKey(0)\n",
    "            Area_z=w*h\n",
    "            print(\"x\",bounding_centre_coordinates_x)\n",
    "            print(\"y\",bounding_centre_coordinates_y)\n",
    "            print(\"s\",Area_z)\n",
    "            print((-center_x+bounding_centre_coordinates_x), (center_y-bounding_centre_coordinates_y), (-1*Ideal_area+Area_z)/100)\n",
    "            x_axis = -center_x + bounding_centre_coordinates_x\n",
    "            y_axis = center_y - bounding_centre_coordinates_y\n",
    "            z_axis= int((-102010+Area_z)/10000)\n",
    "            return x_axis,y_axis,z_axis"
   ]
  },
  {
   "cell_type": "code",
   "execution_count": 12,
   "metadata": {},
   "outputs": [
    {
     "name": "stderr",
     "output_type": "stream",
     "text": [
      "C:\\Users\\10725\\Anaconda3\\lib\\site-packages\\ipykernel_launcher.py:31: DeprecationWarning: elementwise comparison failed; this will raise an error in the future.\n"
     ]
    },
    {
     "name": "stdout",
     "output_type": "stream",
     "text": [
      "6\n",
      "x 347\n",
      "y 391\n",
      "s 247009\n",
      "0 9 2469.0699\n",
      "delta x y z (0, 9, 14)\n"
     ]
    }
   ],
   "source": [
    "print(\"delta x y z\",facedetect(\"face1.jpg\"))"
   ]
  },
  {
   "cell_type": "code",
   "execution_count": null,
   "metadata": {},
   "outputs": [],
   "source": [
    "def command(x_axis,y_axis,z_axis):\n",
    "############################################\n",
    "#输入delatax delatay deltaz 输出相应命令\n",
    "#是未完成代码，需要填充合适的命令格式\n",
    "#############################################\n",
    "      if( -50 < x_axis < 50):\n",
    "            if(-38 < y_axis < 38):\n",
    "                if(-7 < z_axis < 18):\n",
    "                   # self.tello.send_rc_control(0,0,0,0) 不动   \n",
    "                else:\n",
    "                    if(z_axis > 18):\n",
    "                       # self.for_back_velocity = -30\n",
    "                       # self.tello.send_rc_control(0,self.for_back_velocity,0,0) \n",
    "                       #z较大，要向前\n",
    "                    elif(z_axis < -7):\n",
    "                        #self.for_back_velocity = 30\n",
    "                       # self.tello.send_rc_control(0,self.for_back_velocity,0,0)\n",
    "                       #z较小的情况\n",
    "            else:\n",
    "                if(y_axis>38):\n",
    "                  #  self.up_down_velocity = 30\n",
    "                   # self.tello.send_rc_control(0,0, self.up_down_velocity,0)\n",
    "                    #y较大的情况，前后调整               \n",
    "                elif(y_axis<-38):\n",
    "                    #\n",
    "                   # self.up_down_velocity = -30\n",
    "                   # self.tello.send_rc_control(0,0, self.up_down_velocity,0)       \n",
    "        else:\n",
    "            if(x_axis > 50):\n",
    "                #self.yaw_velocity = -20\n",
    "                #self.tello.send_rc_control(0,0,0,self.yaw_velocity)\n",
    "                                \n",
    "            elif(x_axis < -50):\n",
    "                #self.yaw_velocity = 20\n",
    "               # self.tello.send_rc_control(0,0,0,self.yaw_velocity)\n",
    "            #X较大或较小，调整左右"
   ]
  },
  {
   "cell_type": "code",
   "execution_count": null,
   "metadata": {},
   "outputs": [],
   "source": [
    "def run():\n",
    "    while(True):\n",
    "        #####################################\n",
    "        #截一张此刻图保存在某一文件夹/xx/yy下\n",
    "        #####################################\n",
    "        \n",
    "        x_axis,y_axis,z_axis=facedetect(\"/xx/yy\")\n",
    "        \n",
    "        com=command(x_axis,y_axis,z_axis)\n",
    "        \n",
    "        ########################################\n",
    "        #命令执行\n",
    "        ########################################\n",
    "        \n",
    "         time.sleep(30)\n"
   ]
  }
 ],
 "metadata": {
  "kernelspec": {
   "display_name": "Python 3",
   "language": "python",
   "name": "python3"
  },
  "language_info": {
   "codemirror_mode": {
    "name": "ipython",
    "version": 3
   },
   "file_extension": ".py",
   "mimetype": "text/x-python",
   "name": "python",
   "nbconvert_exporter": "python",
   "pygments_lexer": "ipython3",
   "version": "3.7.3"
  }
 },
 "nbformat": 4,
 "nbformat_minor": 2
}
